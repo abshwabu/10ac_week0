{
 "cells": [
  {
   "cell_type": "code",
   "execution_count": 9,
   "metadata": {},
   "outputs": [
    {
     "name": "stdout",
     "output_type": "stream",
     "text": [
      "<class 'pandas.core.frame.DataFrame'>\n",
      "RangeIndex: 105375 entries, 0 to 105374\n",
      "Data columns (total 12 columns):\n",
      " #   Column        Non-Null Count   Dtype \n",
      "---  ------        --------------   ----- \n",
      " 0   article_id    105375 non-null  int64 \n",
      " 1   source_id     24495 non-null   object\n",
      " 2   source_name   105375 non-null  object\n",
      " 3   author        97156 non-null   object\n",
      " 4   title         105335 non-null  object\n",
      " 5   description   104992 non-null  object\n",
      " 6   url           105375 non-null  object\n",
      " 7   url_to_image  99751 non-null   object\n",
      " 8   published_at  105375 non-null  object\n",
      " 9   content       105375 non-null  object\n",
      " 10  category      105333 non-null  object\n",
      " 11  full_content  58432 non-null   object\n",
      "dtypes: int64(1), object(11)\n",
      "memory usage: 9.6+ MB\n"
     ]
    }
   ],
   "source": [
    "import pandas as pd\n",
    "import matplotlib.pyplot as plt\n",
    "import seaborn as sns\n",
    "from scipy.stats import norm, ttest_1samp\n",
    "import numpy as np\n",
    "df = pd.read_csv('../docs/data.csv')\n",
    "df.info()\n",
    "df.describe()\n",
    "df.isnull().sum()\n",
    "sns.histplot(df['title'], kde=True)\n",
    "plt.show()"
   ]
  },
  {
   "cell_type": "code",
   "execution_count": null,
   "metadata": {},
   "outputs": [],
   "source": []
  }
 ],
 "metadata": {
  "kernelspec": {
   "display_name": "10aca",
   "language": "python",
   "name": "python3"
  },
  "language_info": {
   "codemirror_mode": {
    "name": "ipython",
    "version": 3
   },
   "file_extension": ".py",
   "mimetype": "text/x-python",
   "name": "python",
   "nbconvert_exporter": "python",
   "pygments_lexer": "ipython3",
   "version": "3.12.3"
  }
 },
 "nbformat": 4,
 "nbformat_minor": 2
}
